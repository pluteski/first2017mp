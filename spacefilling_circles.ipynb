{
 "cells": [
  {
   "cell_type": "code",
   "execution_count": 1,
   "metadata": {
    "collapsed": false
   },
   "outputs": [],
   "source": [
    "%matplotlib inline\n",
    "import numpy as np\n",
    "import matplotlib.pyplot as plt\n",
    "import pylab #Imports matplotlib and a host of other useful modules\n",
    "import pickle\n",
    "import time\n",
    "\n",
    "import sys\n",
    "# sys.path.append(\"./\")\n",
    "import motion_planner as mp\n",
    "from motion_planner import StateP"
   ]
  },
  {
   "cell_type": "code",
   "execution_count": 2,
   "metadata": {
    "collapsed": false
   },
   "outputs": [
    {
     "name": "stderr",
     "output_type": "stream",
     "text": [
      "08:22:10 INFO:Logging enabled in notebook\n"
     ]
    }
   ],
   "source": [
    "import logging\n",
    "reload(logging)\n",
    "logging.basicConfig(format='%(asctime)s %(levelname)s:%(message)s', level=logging.INFO, datefmt='%I:%M:%S')\n",
    "logging.info('Logging enabled in notebook')\n"
   ]
  },
  {
   "cell_type": "code",
   "execution_count": 4,
   "metadata": {
    "collapsed": false
   },
   "outputs": [],
   "source": [
    "mp = reload(mp)"
   ]
  },
  {
   "cell_type": "markdown",
   "metadata": {
    "collapsed": false
   },
   "source": [
    "# Examine Reflection"
   ]
  },
  {
   "cell_type": "code",
   "execution_count": 35,
   "metadata": {
    "collapsed": false
   },
   "outputs": [
    {
     "name": "stdout",
     "output_type": "stream",
     "text": [
      "180                            n_unreachables.pickle\r\n",
      "README.180                     ne_180_34.log\r\n",
      "\u001b[34mbad34\u001b[m\u001b[m/                         ne_remaining.pickle\r\n",
      "n_180_34.log                   ne_sample.pickle\r\n",
      "n_remaining.pickle             ne_sample_stage2.pickle\r\n",
      "n_sample.pickle                ne_sample_stage4.pickle\r\n",
      "n_sample_stage2.pickle         ne_sample_traj.pickle\r\n",
      "n_sample_stage4.pickle         ne_sample_unreachables.pickle\r\n",
      "n_sample_traj.pickle           ne_stage1.pickle\r\n",
      "n_sample_unreachables.pickle   ne_stage2.pickle\r\n",
      "n_stage1.pickle                ne_stage3.pickle\r\n",
      "n_stage2.pickle                ne_stage4.pickle\r\n",
      "n_stage3.pickle                ne_unreachables.pickle\r\n",
      "n_stage4.pickle\r\n"
     ]
    }
   ],
   "source": [
    "ls /temp/valkyrierobotics/mp_stages/runs/180.mar9/"
   ]
  },
  {
   "cell_type": "markdown",
   "metadata": {},
   "source": [
    "#### Reflection of stage1 states"
   ]
  },
  {
   "cell_type": "code",
   "execution_count": null,
   "metadata": {
    "collapsed": false
   },
   "outputs": [],
   "source": []
  },
  {
   "cell_type": "code",
   "execution_count": 34,
   "metadata": {
    "collapsed": false
   },
   "outputs": [
    {
     "name": "stderr",
     "output_type": "stream",
     "text": [
      "08:53:57 INFO:Loading pickle file : /temp/valkyrierobotics/mp_stages/runs/180.mar9/n_stage1.pickle\n"
     ]
    },
    {
     "name": "stdout",
     "output_type": "stream",
     "text": [
      "110930\n",
      "-4\n",
      "9985\n",
      "1284\n"
     ]
    }
   ],
   "source": [
    "config = mp.load_config('/temp/valkyrierobotics/mp_stages/runs/180.mar9/n_stage1.pickle')\n",
    "print len(config)\n",
    "minx = min([k[0] for k in config.iterkeys()])\n",
    "print minx\n",
    "c_minx = dict([(k,v) for k,v in config.iteritems() if k[0] <= -minx])\n",
    "print len(c_minx)\n",
    "del config\n",
    "c_reflection = dict([(k,v) for k,v in c_minx.iteritems() if k[0] < 0 and (-k[0],k[1],k[2]) in c_minx])\n",
    "print len(c_reflection)"
   ]
  },
  {
   "cell_type": "code",
   "execution_count": 10,
   "metadata": {
    "collapsed": false
   },
   "outputs": [
    {
     "name": "stdout",
     "output_type": "stream",
     "text": [
      "9985\n"
     ]
    }
   ],
   "source": []
  },
  {
   "cell_type": "code",
   "execution_count": 11,
   "metadata": {
    "collapsed": true
   },
   "outputs": [],
   "source": []
  },
  {
   "cell_type": "code",
   "execution_count": 13,
   "metadata": {
    "collapsed": false
   },
   "outputs": [
    {
     "name": "stdout",
     "output_type": "stream",
     "text": [
      "1284\n"
     ]
    }
   ],
   "source": []
  },
  {
   "cell_type": "code",
   "execution_count": 14,
   "metadata": {
    "collapsed": false
   },
   "outputs": [
    {
     "name": "stdout",
     "output_type": "stream",
     "text": [
      "    (-1, 28, 4) : g1:    (-1, 20, 0)  r:  91.5  type: rh  d:  8.0   g2:           None  d2:  None  samples: 305\n",
      "     (1, 28, 4) : g1:   (1, 20, 354)  r:  46.5  type: rh  d:  8.0   g2:           None  d2:  None  samples: 58\n",
      "\n",
      "   (-1, 117, 6) : g1:  (-1, 20, 354)  r: 450.0  type: rh  d: 97.2   g2:           None  d2:  None  samples: 8\n",
      "    (1, 117, 6) : g1:   (1, 20, 354)  r: 490.0  type: rh  d: 97.2   g2:           None  d2:  None  samples: 8\n",
      "\n",
      "    (-3, 99, 4) : g1:     (0, 20, 0)  r:1200.0  type: rh  d: 79.0   g2:           None  d2:  None  samples: 12\n",
      "     (3, 99, 4) : g1:   (1, 20, 354)  r: 500.0  type: rh  d: 79.1   g2:           None  d2:  None  samples: 1\n",
      "\n",
      "    (-1, 89, 4) : g1:     (0, 20, 0)  r:1200.0  type: rh  d: 69.0   g2:           None  d2:  None  samples: 16\n",
      "     (1, 89, 4) : g1:   (0, 20, 354)  r: 440.0  type: rh  d: 69.1   g2:           None  d2:  None  samples: 24\n",
      "\n",
      "   (-1, 34, 10) : g1:     (0, 20, 0)  r: 196.0  type: rh  d: 14.0   g2:           None  d2:  None  samples: 169\n",
      "    (1, 34, 10) : g1:   (1, 20, 350)  r:  41.0  type: rh  d: 14.1   g2:           None  d2:  None  samples: 4\n",
      "\n",
      "    (-3, 69, 0) : g1:    (-1, 20, 6)  r: 420.0  type: lh  d: 49.1   g2:           None  d2:  None  samples: 29\n",
      "     (3, 69, 0) : g1:   (1, 20, 354)  r: 420.0  type: rh  d: 49.1   g2:           None  d2:  None  samples: 29\n",
      "\n",
      "  (-3, 73, 358) : g1:    (-1, 20, 6)  r: 400.0  type: lh  d: 53.1   g2:           None  d2:  None  samples: 8\n",
      "   (3, 73, 358) : g1:   (0, 20, 354)  r: 700.0  type: rh  d: 53.1   g2:           None  d2:  None  samples: 8\n",
      "\n",
      "   (-4, 107, 0) : g1:     (0, 20, 6)  r: 900.0  type: lh  d: 87.1   g2:           None  d2:  None  samples: 6\n",
      "    (4, 107, 0) : g1:   (0, 20, 354)  r: 900.0  type: rh  d: 87.1   g2:           None  d2:  None  samples: 6\n",
      "\n",
      "   (-4, 108, 2) : g1:     (1, 20, 6)  r:1100.0  type: lh  d: 88.2   g2:           None  d2:  None  samples: 3\n",
      "    (4, 108, 2) : g1:   (1, 20, 354)  r: 700.0  type: rh  d: 88.1   g2:           None  d2:  None  samples: 2\n",
      "\n",
      "    (-1, 97, 6) : g1:  (-1, 20, 354)  r: 370.0  type: rh  d: 77.1   g2:           None  d2:  None  samples: 8\n",
      "     (1, 97, 6) : g1:   (1, 20, 354)  r: 400.0  type: rh  d: 77.1   g2:           None  d2:  None  samples: 7\n",
      "\n",
      "   (-1, 104, 4) : g1:     (1, 20, 0)  r:1300.0  type: rh  d: 84.0   g2:           None  d2:  None  samples: 11\n",
      "    (1, 104, 4) : g1:   (0, 20, 354)  r: 490.0  type: rh  d: 84.1   g2:           None  d2:  None  samples: 14\n",
      "\n",
      " (-1, 109, 356) : g1:     (0, 20, 6)  r: 490.0  type: lh  d: 89.1   g2:           None  d2:  None  samples: 12\n",
      "  (1, 109, 356) : g1:    (-1, 20, 0)  r:1400.0  type: lh  d: 89.0   g2:           None  d2:  None  samples: 12\n",
      "\n"
     ]
    }
   ],
   "source": [
    "ii=0\n",
    "max=11\n",
    "for k,v in c_reflection.iteritems():\n",
    "    mp.print_state(k,v)\n",
    "    mp.print_state((-k[0],k[1],k[2]), c_minx[(-k[0],k[1],k[2])])\n",
    "    print\n",
    "    ii+=1\n",
    "    if ii>max:\n",
    "        break\n",
    "        "
   ]
  },
  {
   "cell_type": "markdown",
   "metadata": {},
   "source": [
    "#### Reflection of stage2 states\n"
   ]
  },
  {
   "cell_type": "code",
   "execution_count": 30,
   "metadata": {
    "collapsed": false
   },
   "outputs": [
    {
     "name": "stderr",
     "output_type": "stream",
     "text": [
      "08:48:23 INFO:Loading pickle file : /temp/valkyrierobotics/mp_stages/runs/180.mar9/n_sample_stage2.pickle\n"
     ]
    },
    {
     "name": "stdout",
     "output_type": "stream",
     "text": [
      "177120\n",
      "-5\n",
      "14367\n",
      "22\n"
     ]
    }
   ],
   "source": [
    "#config2 = mp.load_config('/temp/valkyrierobotics/mp_stages/runs/180.mar9/n_stage2.pickle')\n",
    "config2 = mp.load_config('/temp/valkyrierobotics/mp_stages/runs/180.mar9/n_sample_stage2.pickle')\n",
    "\n",
    "print len(config2)\n",
    "minx2 = min([k[0] for k in config2.iterkeys()])\n",
    "print minx2\n",
    "c_minx2 = dict([(k,v) for k,v in config2.iteritems() if k[0] <= -minx2])\n",
    "del config2\n",
    "print len(c_minx2)\n",
    "c_reflection2 = dict([(k,v) for k,v in c_minx2.iteritems() if k[0] < 0 and mp.is_stage2(v) and (-k[0],k[1],k[2]) in c_minx2])\n",
    "print len(c_reflection2)\n"
   ]
  },
  {
   "cell_type": "code",
   "execution_count": 36,
   "metadata": {
    "collapsed": false
   },
   "outputs": [
    {
     "name": "stdout",
     "output_type": "stream",
     "text": [
      " (-2, 110, 350) : g1:   (-3, 107, 2)  r:  15.0  type: lh  d: 90.2   g2:    (-1, 20, 0)  d2:   3.2  samples: 3\n",
      "  (2, 110, 350) : g1:     (0, 20, 6)  r: 340.0  type: lh  d: 90.3   g2:           None  d2:  None  samples: 10\n",
      "\n",
      " (-2, 102, 352) : g1:    (-3, 99, 4)  r:  15.0  type: lh  d: 82.2   g2:     (0, 20, 0)  d2:   3.2  samples: 3\n",
      "  (2, 102, 352) : g1:     (0, 20, 6)  r: 330.0  type: lh  d: 82.2   g2:           None  d2:  None  samples: 4\n",
      "\n",
      "  (-3, 54, 352) : g1:   (-3, 49, 12)  r:  15.0  type: lh  d: 34.1   g2:     (0, 20, 0)  d2:   5.0  samples: 3\n",
      "   (3, 54, 352) : g1:     (1, 20, 0)  r: 230.0  type: lh  d: 34.1   g2:           None  d2:  None  samples: 24\n",
      "\n",
      "  (-1, 95, 350) : g1:    (-2, 92, 2)  r:  15.0  type: lh  d: 75.2   g2:    (-1, 20, 0)  d2:   3.2  samples: 3\n",
      "   (1, 95, 350) : g1:    (-1, 20, 6)  r: 280.0  type: lh  d: 75.2   g2:           None  d2:  None  samples: 6\n",
      "\n",
      "   (-3, 77, 82) : g1:   (9, 58, 342)  r:  15.0  type: rh  d: 64.3   g2:   (1, 20, 354)  d2:  25.4  samples: 3\n",
      "    (3, 77, 82) : g1:  (13, 54, 324)  r:  15.0  type: rh  d: 66.1   g2:   (0, 20, 354)  d2:  29.7  samples: 1\n",
      "\n",
      "  (-2, 91, 348) : g1:    (-3, 87, 4)  r:  15.0  type: lh  d: 71.2   g2:    (-1, 20, 0)  d2:   4.1  samples: 2\n",
      "   (2, 91, 348) : g1:    (-1, 20, 6)  r: 240.0  type: lh  d: 71.3   g2:           None  d2:  None  samples: 6\n",
      "\n",
      " (-2, 106, 110) : g1:  (17, 88, 340)  r:  15.0  type: rh  d:101.8   g2:   (1, 20, 354)  d2:  31.8  samples: 2\n",
      "  (2, 106, 110) : g1:  (20, 85, 330)  r:  15.0  type: rh  d:103.6   g2:   (0, 20, 354)  d2:  35.2  samples: 3\n",
      "\n",
      "  (-3, 70, 352) : g1:   (-3, 65, 12)  r:  15.0  type: lh  d: 50.2   g2:  (-1, 20, 354)  d2:   5.0  samples: 2\n",
      "   (3, 70, 352) : g1:     (0, 20, 0)  r: 370.0  type: lh  d: 50.1   g2:           None  d2:  None  samples: 30\n",
      "\n",
      " (-3, 106, 352) : g1:   (-4, 103, 4)  r:  15.0  type: lh  d: 86.2   g2:    (-1, 20, 0)  d2:   3.2  samples: 1\n",
      "  (3, 106, 352) : g1:     (1, 20, 6)  r: 330.0  type: lh  d: 86.3   g2:           None  d2:  None  samples: 3\n",
      "\n",
      "  (-1, 39, 340) : g1:    (-2, 33, 4)  r:  15.0  type: lh  d: 19.1   g2:    (-1, 20, 6)  d2:   6.1  samples: 3\n",
      "   (1, 39, 340) : g1:    (0, 20, 10)  r:  36.5  type: lh  d: 19.2   g2:           None  d2:  None  samples: 25\n",
      "\n",
      " (-3, 120, 348) : g1:   (-4, 116, 4)  r:  15.0  type: lh  d:100.2   g2:    (-1, 20, 0)  d2:   4.1  samples: 2\n",
      "  (3, 120, 348) : g1:    (-1, 20, 6)  r: 330.0  type: lh  d:100.5   g2:           None  d2:  None  samples: 3\n",
      "\n",
      "  (-2, 99, 352) : g1:    (-3, 96, 4)  r:  15.0  type: lh  d: 79.2   g2:     (0, 20, 0)  d2:   3.2  samples: 1\n",
      "   (2, 99, 352) : g1:     (1, 20, 6)  r: 330.0  type: lh  d: 79.2   g2:           None  d2:  None  samples: 9\n",
      "\n"
     ]
    }
   ],
   "source": [
    "ii=0\n",
    "max=11\n",
    "for k,v in c_reflection2.iteritems():\n",
    "    mp.print_state(k,v)\n",
    "    mp.print_state((-k[0],k[1],k[2]), c_minx2[(-k[0],k[1],k[2])])\n",
    "    print\n",
    "    ii+=1\n",
    "    if ii>max:\n",
    "        break\n",
    "        \n"
   ]
  },
  {
   "cell_type": "markdown",
   "metadata": {},
   "source": [
    "#### Mirror reflection of stage1 \n",
    "Same goal1, ideally type is reversed and everything else is also"
   ]
  },
  {
   "cell_type": "code",
   "execution_count": 38,
   "metadata": {
    "collapsed": false
   },
   "outputs": [
    {
     "name": "stderr",
     "output_type": "stream",
     "text": [
      "08:58:18 INFO:Loading pickle file : /temp/valkyrierobotics/mp_stages/runs/180.mar9/n_stage1.pickle\n"
     ]
    },
    {
     "name": "stdout",
     "output_type": "stream",
     "text": [
      "110930\n",
      "-4\n",
      "9985\n",
      "396\n"
     ]
    }
   ],
   "source": [
    "config = mp.load_config('/temp/valkyrierobotics/mp_stages/runs/180.mar9/n_stage1.pickle')\n",
    "print len(config)\n",
    "minx = min([k[0] for k in config.iterkeys()])\n",
    "print minx\n",
    "c_minx = dict([(k,v) for k,v in config.iteritems() if k[0] <= -minx])\n",
    "print len(c_minx)\n",
    "del config\n",
    "c_reflection = dict([(k,v) for k,v in c_minx.iteritems() if k[0] < 0 and (-k[0],k[1],k[2]) in c_minx \n",
    "                     and v.goal1()[0] == c_minx[(-k[0],k[1],k[2])].goal1()[0]\n",
    "                     and v.goal1()[1] == c_minx[(-k[0],k[1],k[2])].goal1()[1]\n",
    "                    ])\n",
    "print len(c_reflection)"
   ]
  },
  {
   "cell_type": "code",
   "execution_count": 39,
   "metadata": {
    "collapsed": false
   },
   "outputs": [
    {
     "name": "stdout",
     "output_type": "stream",
     "text": [
      "    (-1, 89, 4) : g1:     (0, 20, 0)  r:1200.0  type: rh  d: 69.0   g2:           None  d2:  None  samples: 16\n",
      "     (1, 89, 4) : g1:   (0, 20, 354)  r: 440.0  type: rh  d: 69.1   g2:           None  d2:  None  samples: 24\n",
      "\n",
      "   (-4, 108, 2) : g1:     (1, 20, 6)  r:1100.0  type: lh  d: 88.2   g2:           None  d2:  None  samples: 3\n",
      "    (4, 108, 2) : g1:   (1, 20, 354)  r: 700.0  type: rh  d: 88.1   g2:           None  d2:  None  samples: 2\n",
      "\n",
      "  (-1, 69, 354) : g1:    (-1, 20, 6)  r: 250.0  type: lh  d: 49.1   g2:           None  d2:  None  samples: 6\n",
      "   (1, 69, 354) : g1:    (-1, 20, 0)  r: 420.0  type: lh  d: 49.1   g2:           None  d2:  None  samples: 24\n",
      "\n",
      "   (-4, 106, 2) : g1:     (1, 20, 6)  r:1100.0  type: lh  d: 86.2   g2:           None  d2:  None  samples: 3\n",
      "    (4, 106, 2) : g1:   (1, 20, 354)  r: 700.0  type: rh  d: 86.1   g2:           None  d2:  None  samples: 2\n",
      "\n",
      "    (-1, 80, 2) : g1:     (0, 20, 0)  r:1900.0  type: rh  d: 60.0   g2:           None  d2:  None  samples: 48\n",
      "     (1, 80, 2) : g1:   (0, 20, 354)  r: 420.0  type: rh  d: 60.0   g2:           None  d2:  None  samples: 29\n",
      "\n",
      "  (-3, 96, 358) : g1:    (-1, 20, 6)  r: 490.0  type: lh  d: 76.1   g2:           None  d2:  None  samples: 9\n",
      "   (3, 96, 358) : g1:  (-1, 20, 354)  r: 900.0  type: rh  d: 76.1   g2:           None  d2:  None  samples: 3\n",
      "\n",
      "    (-3, 96, 0) : g1:     (0, 20, 6)  r: 700.0  type: lh  d: 76.1   g2:           None  d2:  None  samples: 6\n",
      "     (3, 96, 0) : g1:   (0, 20, 354)  r: 700.0  type: rh  d: 76.1   g2:           None  d2:  None  samples: 6\n",
      "\n",
      "    (-1, 43, 0) : g1:     (0, 20, 6)  r:1400.0  type: rh  d: 23.0   g2:           None  d2:  None  samples: 120\n",
      "     (1, 43, 0) : g1:   (0, 20, 354)  r:1400.0  type: lh  d: 23.0   g2:           None  d2:  None  samples: 120\n",
      "\n",
      "  (-1, 71, 356) : g1:     (0, 20, 6)  r: 310.0  type: lh  d: 51.1   g2:           None  d2:  None  samples: 12\n",
      "   (1, 71, 356) : g1:     (0, 20, 0)  r: 800.0  type: lh  d: 51.0   g2:           None  d2:  None  samples: 11\n",
      "\n",
      "  (-1, 64, 356) : g1:     (0, 20, 6)  r: 270.0  type: lh  d: 44.0   g2:           None  d2:  None  samples: 12\n",
      "   (1, 64, 356) : g1:     (0, 20, 0)  r: 700.0  type: lh  d: 44.0   g2:           None  d2:  None  samples: 6\n",
      "\n",
      "  (-1, 84, 358) : g1:     (0, 20, 6)  r: 410.0  type: lh  d: 64.1   g2:           None  d2:  None  samples: 6\n",
      "   (1, 84, 358) : g1:     (0, 20, 0)  r:2200.0  type: lh  d: 64.0   g2:           None  d2:  None  samples: 42\n",
      "\n",
      "    (-1, 74, 4) : g1:     (0, 20, 0)  r: 800.0  type: rh  d: 54.0   g2:           None  d2:  None  samples: 12\n",
      "     (1, 74, 4) : g1:   (0, 20, 354)  r: 330.0  type: rh  d: 54.1   g2:           None  d2:  None  samples: 18\n",
      "\n"
     ]
    }
   ],
   "source": [
    "ii=0\n",
    "max=11\n",
    "for k,v in c_reflection.iteritems():\n",
    "    mp.print_state(k,v)\n",
    "    mp.print_state((-k[0],k[1],k[2]), c_minx[(-k[0],k[1],k[2])])\n",
    "    print\n",
    "    ii+=1\n",
    "    if ii>max:\n",
    "        break"
   ]
  },
  {
   "cell_type": "code",
   "execution_count": null,
   "metadata": {
    "collapsed": true
   },
   "outputs": [],
   "source": []
  },
  {
   "cell_type": "markdown",
   "metadata": {},
   "source": [
    "# List home directory"
   ]
  },
  {
   "cell_type": "code",
   "execution_count": 5,
   "metadata": {
    "collapsed": false
   },
   "outputs": [
    {
     "name": "stdout",
     "output_type": "stream",
     "text": [
      "arcs.ipynb                     ne_sample.pickle\r\n",
      "evaluate.ipynb                 ne_sample_stage2.pickle\r\n",
      "field_drawings.ipynb           ne_sample_stage4.pickle\r\n",
      "load_mp.py                     ne_sample_traj.pickle\r\n",
      "mem_profiling.py               ne_sample_unreachables.pickle\r\n",
      "motion_planner.py              ne_stage1.pickle\r\n",
      "motion_planner.pyc             ne_stage2.pickle\r\n",
      "mp_deprecated.ipynb            ne_stage3.pickle\r\n",
      "n_remaining.pickle             ne_stage4.pickle\r\n",
      "n_sample.pickle                ne_unreachables.pickle\r\n",
      "n_sample_stage2.pickle         \u001b[34moldcode\u001b[m\u001b[m/\r\n",
      "n_sample_stage4.pickle         readme.md\r\n",
      "n_sample_traj.pickle           requirements.txt\r\n",
      "n_sample_unreachables.pickle   results.txt\r\n",
      "n_stage1.pickle                \u001b[34mruns\u001b[m\u001b[m/\r\n",
      "n_stage2.pickle                sample_trajectories.ipynb\r\n",
      "n_stage3.pickle                spacefilling_circles.ipynb\r\n",
      "n_stage4.pickle                test-360.ipynb\r\n",
      "n_unreachables.pickle          test.ipynb\r\n",
      "ne_remaining.pickle\r\n"
     ]
    }
   ],
   "source": [
    "ls '.'"
   ]
  },
  {
   "cell_type": "code",
   "execution_count": null,
   "metadata": {
    "collapsed": true
   },
   "outputs": [],
   "source": []
  },
  {
   "cell_type": "code",
   "execution_count": null,
   "metadata": {
    "collapsed": true
   },
   "outputs": [],
   "source": []
  },
  {
   "cell_type": "code",
   "execution_count": null,
   "metadata": {
    "collapsed": true
   },
   "outputs": [],
   "source": []
  },
  {
   "cell_type": "markdown",
   "metadata": {},
   "source": [
    "### Visual collision check.\n",
    "There should be not be any points lying within half the robot length from the wall.\n",
    "The following drawing shows that there are only a few points lying within a comfortable tolerance (half robot length plus a few inches)"
   ]
  },
  {
   "cell_type": "code",
   "execution_count": null,
   "metadata": {
    "collapsed": true
   },
   "outputs": [],
   "source": []
  },
  {
   "cell_type": "markdown",
   "metadata": {},
   "source": [
    "# TODOs\n",
    "* Convert table to c readable binary format\n"
   ]
  },
  {
   "cell_type": "markdown",
   "metadata": {
    "collapsed": true
   },
   "source": [
    "# Done\n",
    "* Visualize various types of trajectories\n",
    "* Run on northeast goal\n",
    "* Reduced memory by packing configuration state table into bytearray representation\n",
    "* Wrote path checker to locate invalid or kinky paths.\n",
    "* Handles dead zones that block forwards driving using reverse direction turn until encounter filled state\n",
    "* Implemented stage3 as quickturn maneuver to heading at same location having shortest path to goal.\n",
    "* Plotted stage2 paths leading into same waypoint goal, then following path leading to primary goal.\n",
    "* Plotted stage2 paths leading into same waypoint goal.\n",
    "* Stage 1 planner stores goal2 (waypoint goal) for all stage1 states.\n",
    "* Created set of unreachable/impossible configurations and used in planner to reduce search space\n",
    "* Created mask for field element obstacles: airship walls, upper wall, right wall, divider\n",
    "* Moved core code to python\n",
    "* Stage 2 Fleur de lis search : 3/4 circle maneuveur to on-ramp cells with opposite orientation, small turn radii\n",
    "    * doesn't overwrite first generation paths\n",
    "    * has \"goal2\" field pointing to next table entry to consult after performing this path\n",
    "    * has \"dist2\" giving distance to goal2\n",
    "    * properly updates \"dist\" field\n",
    "* Ability to save configuration state to file and reload\n",
    "    * load in separate notebook for visualization analysis while search is running.\n",
    "* Created tools for visualizing states, validating paths, and checking critical angle calculations.\n",
    "* Stage 1 backwards planner using arc can start from any (x,y) goal position and heading.\n",
    "* Stores path type (arc left, arc right), turning radius, and distance to goal in each filled cell\n",
    "    * overwrites if new turning radius and distance are better\n",
    "\n",
    "#### Reading\n",
    "* Create masked array: http://kestrel.nmt.edu/~raymond/software/python_notes/paper003.html#sec55\n"
   ]
  },
  {
   "cell_type": "markdown",
   "metadata": {
    "collapsed": false
   },
   "source": [
    " "
   ]
  },
  {
   "cell_type": "markdown",
   "metadata": {},
   "source": [
    "  "
   ]
  },
  {
   "cell_type": "markdown",
   "metadata": {},
   "source": [
    "\n"
   ]
  },
  {
   "cell_type": "code",
   "execution_count": null,
   "metadata": {
    "collapsed": true
   },
   "outputs": [],
   "source": []
  },
  {
   "cell_type": "code",
   "execution_count": null,
   "metadata": {
    "collapsed": true
   },
   "outputs": [],
   "source": []
  },
  {
   "cell_type": "code",
   "execution_count": null,
   "metadata": {
    "collapsed": true
   },
   "outputs": [],
   "source": []
  },
  {
   "cell_type": "markdown",
   "metadata": {
    "collapsed": true
   },
   "source": [
    "### Reconstruct stage1 / stage2 paths\n",
    "This is a work in progress exploration of reliably recreating an entire discretized path for \n",
    "an arbitrary stage1 or stage2 path plucked from a trained lookup table. "
   ]
  },
  {
   "cell_type": "code",
   "execution_count": 586,
   "metadata": {
    "collapsed": false,
    "scrolled": false
   },
   "outputs": [
    {
     "name": "stderr",
     "output_type": "stream",
     "text": [
      "01:11:00 INFO:Loading pickle file : n_sample_stage2.pickle\n"
     ]
    },
    {
     "name": "stdout",
     "output_type": "stream",
     "text": [
      "Count(config2):  177120\n",
      "key:  (39, 105, 90)\n",
      "State:    (39, 105, 90) : g1:  (43, 76, 286)  r:  15.0  type: rh  d: 115.4   g2:     (0, 20, 0)  d2:   40.5  samples: 1\n",
      "turntype:  lh\n",
      "h:  270\n",
      "center:  (39.0, 90.0)\n",
      "Plotted 36/36 \n"
     ]
    },
    {
     "data": {
      "image/png": "[encoded data removed]",
      "text/plain": [
       "<matplotlib.figure.Figure at 0x129814f10>"
      ]
     },
     "metadata": {},
     "output_type": "display_data"
    },
    {
     "name": "stderr",
     "output_type": "stream",
     "text": [
      "01:11:06 WARNING:Expected len(state)==3, instead: 2\n",
      "01:11:06 WARNING:Expected len(state)==3, instead: 2\n",
      "01:11:06 WARNING:Expected len(state)==3, instead: 2\n",
      "01:11:06 WARNING:Expected len(state)==3, instead: 2\n",
      "01:11:06 WARNING:Expected len(state)==3, instead: 2\n",
      "01:11:06 WARNING:Expected len(state)==3, instead: 2\n",
      "01:11:06 WARNING:Expected len(state)==3, instead: 2\n",
      "01:11:06 WARNING:Expected len(state)==3, instead: 2\n"
     ]
    },
    {
     "name": "stdout",
     "output_type": "stream",
     "text": [
      "Plotted 42/50 \n"
     ]
    },
    {
     "data": {
      "image/png": "[encoded data removed]",
      "text/plain": [
       "<matplotlib.figure.Figure at 0x11d686c90>"
      ]
     },
     "metadata": {},
     "output_type": "display_data"
    },
    {
     "name": "stdout",
     "output_type": "stream",
     "text": [
      "Path points:  50\n"
     ]
    }
   ],
   "source": [
    "mp = reload(mp)\n",
    "# key = (115, 9, 174)\n",
    "# key = (52, -14, 112)\n",
    "# #key = (16, 74, 336)\n",
    "# print \"key: \", key\n",
    "# points = mp.path_points(key,config,plot_obstacles=True,verbose=True)\n",
    "\n",
    "# Tested on stage2:\n",
    "config2 = mp.load_config('n_sample_stage2.pickle')\n",
    "print \"Count(config2): \", len(config2)\n",
    "for k,v in config2.iteritems():\n",
    "    if v.dist2() and v.goal2() and v.r() and int(v.dist2()) == 40:\n",
    "        key=k\n",
    "        break\n",
    "print \"key: \", key\n",
    "key,config2,plot_obstacles=True,verbose=True)\n",
    "print \"Path points: \", len(points)"
   ]
  },
  {
   "cell_type": "code",
   "execution_count": 185,
   "metadata": {
    "collapsed": false
   },
   "outputs": [
    {
     "name": "stderr",
     "output_type": "stream",
     "text": [
      "03:58:19 INFO:Loading config file from stage2.pickle\n",
      "03:58:19 INFO:Checking collisions\n",
      "03:58:23 INFO:No collisions\n"
     ]
    }
   ],
   "source": [
    "configg2 = mp.load_config(mp.N_STAGE2_FILEPATH)\n",
    "mp.check_collisions_config(configg2)"
   ]
  },
  {
   "cell_type": "code",
   "execution_count": 240,
   "metadata": {
    "collapsed": false
   },
   "outputs": [
    {
     "data": {
      "text/plain": [
       "u'/Users/mark/code/motionplanning'"
      ]
     },
     "execution_count": 240,
     "metadata": {},
     "output_type": "execute_result"
    }
   ],
   "source": [
    "pwd\n"
   ]
  },
  {
   "cell_type": "code",
   "execution_count": 245,
   "metadata": {
    "collapsed": false
   },
   "outputs": [
    {
     "name": "stderr",
     "output_type": "stream",
     "text": [
      "11:59:12 INFO:Loading pickle file from ne_sample_unreachables.pickle\n"
     ]
    }
   ],
   "source": [
    "#mp=reload(mp)\n",
    "unreachables = mp.load_config('ne_sample_unreachables.pickle')"
   ]
  },
  {
   "cell_type": "code",
   "execution_count": null,
   "metadata": {
    "collapsed": false
   },
   "outputs": [],
   "source": [
    "ls -l '/Users/mark/Valkyrie'"
   ]
  },
  {
   "cell_type": "markdown",
   "metadata": {},
   "source": [
    "#  Plan Validation\n",
    "(Work in Progress) attempts to recreate rasterized path exactly from trajectory paths stored in table, \n",
    "then that could be used to intersect with obstacles. \n"
   ]
  },
  {
   "cell_type": "code",
   "execution_count": 587,
   "metadata": {
    "collapsed": false,
    "scrolled": false
   },
   "outputs": [
    {
     "name": "stderr",
     "output_type": "stream",
     "text": [
      "01:11:13 INFO:Checking 110930 paths\n",
      "01:11:13 INFO:Checked 1 so far\n",
      "01:11:13 INFO:Checked 2 so far\n",
      "01:11:13 INFO:Checked 3 so far\n",
      "01:11:13 INFO:Checked 4 so far\n",
      "01:11:13 INFO:Checked 5 so far\n",
      "01:11:13 INFO:Checked 6 so far\n",
      "01:11:13 INFO:Checked 7 so far\n",
      "01:11:13 INFO:Checked 8 so far\n",
      "01:11:13 INFO:Checked 9 so far\n",
      "01:11:13 INFO:Checked 10 so far\n",
      "01:11:13 INFO:Checked 11 so far\n",
      "01:11:13 INFO:Checked 12 so far\n",
      "01:11:13 INFO:Checked 13 so far\n",
      "01:11:13 INFO:Checked 14 so far\n",
      "01:11:13 INFO:Checked 15 so far\n",
      "01:11:13 INFO:Checked 16 so far\n",
      "01:11:13 WARNING:(-4, 44, 8) :  path state collides : (0, -2, 2)\n",
      "01:11:13 WARNING:    (-4, 44, 8) : g1:    (-1, 20, 6)  r: 470.0  type: rh  d:  24.2   g2:           None  d2:   None  samples: 18\n"
     ]
    },
    {
     "name": "stdout",
     "output_type": "stream",
     "text": [
      "Plotted 2/2 \n"
     ]
    },
    {
     "data": {
      "image/png": "[encoded data removed]",
      "text/plain": [
       "<matplotlib.figure.Figure at 0x11e2d6710>"
      ]
     },
     "metadata": {},
     "output_type": "display_data"
    },
    {
     "name": "stdout",
     "output_type": "stream",
     "text": [
      "Plotted 2/2 \n"
     ]
    },
    {
     "data": {
      "image/png": "[encoded data removed]",
      "text/plain": [
       "<matplotlib.figure.Figure at 0x1526c6ed0>"
      ]
     },
     "metadata": {},
     "output_type": "display_data"
    },
    {
     "data": {
      "text/plain": [
       "False"
      ]
     },
     "execution_count": 587,
     "metadata": {},
     "output_type": "execute_result"
    }
   ],
   "source": [
    "mp = reload(mp)\n",
    "byes=set([(x,y,h) for h in mp.DGH for y in [15,16,17,18,19,20] for x in [-1,0,1]])\n",
    "mp.paths_ok(config,byes,plot=True)"
   ]
  },
  {
   "cell_type": "markdown",
   "metadata": {
    "collapsed": true
   },
   "source": [
    "# Evaluating stage3 paths\n",
    "Looking for source of large heading discrepancy in simulated paths."
   ]
  },
  {
   "cell_type": "code",
   "execution_count": 4,
   "metadata": {
    "collapsed": false
   },
   "outputs": [
    {
     "data": {
      "text/plain": [
       "['In',\n",
       " 'Out',\n",
       " 'StateP',\n",
       " '_',\n",
       " '__',\n",
       " '___',\n",
       " '__builtin__',\n",
       " '__builtins__',\n",
       " '__doc__',\n",
       " '__name__',\n",
       " '__package__',\n",
       " '_dh',\n",
       " '_i',\n",
       " '_i1',\n",
       " '_i2',\n",
       " '_i3',\n",
       " '_i4',\n",
       " '_ih',\n",
       " '_ii',\n",
       " '_iii',\n",
       " '_oh',\n",
       " '_sh',\n",
       " 'exit',\n",
       " 'get_ipython',\n",
       " 'logging',\n",
       " 'mp',\n",
       " 'np',\n",
       " 'os',\n",
       " 'pickle',\n",
       " 'plt',\n",
       " 'pylab',\n",
       " 'quit',\n",
       " 'sys',\n",
       " 'time']"
      ]
     },
     "execution_count": 4,
     "metadata": {},
     "output_type": "execute_result"
    }
   ],
   "source": [
    "config3 = 'n_'"
   ]
  },
  {
   "cell_type": "code",
   "execution_count": 6,
   "metadata": {
    "collapsed": false
   },
   "outputs": [
    {
     "name": "stdout",
     "output_type": "stream",
     "text": [
      "arcs.ipynb                     ne_sample.pickle\r\n",
      "evaluate.ipynb                 ne_sample_stage2.pickle\r\n",
      "field_drawings.ipynb           ne_sample_stage4.pickle\r\n",
      "load_mp.py                     ne_sample_traj.pickle\r\n",
      "mem_profiling.py               ne_sample_unreachables.pickle\r\n",
      "motion_planner.py              ne_stage1.pickle\r\n",
      "motion_planner.pyc             ne_stage2.pickle\r\n",
      "mp_deprecated.ipynb            ne_stage3.pickle\r\n",
      "n_remaining.pickle             ne_stage4.pickle\r\n",
      "n_sample.pickle                ne_unreachables.pickle\r\n",
      "n_sample_stage2.pickle         \u001b[34moldcode\u001b[m\u001b[m/\r\n",
      "n_sample_stage4.pickle         readme.md\r\n",
      "n_sample_traj.pickle           requirements.txt\r\n",
      "n_sample_unreachables.pickle   results.txt\r\n",
      "n_stage1.pickle                \u001b[34mruns\u001b[m\u001b[m/\r\n",
      "n_stage2.pickle                sample_trajectories.ipynb\r\n",
      "n_stage3.pickle                spacefilling_circles.ipynb\r\n",
      "n_stage4.pickle                test-360.ipynb\r\n",
      "n_unreachables.pickle          test.ipynb\r\n",
      "ne_remaining.pickle\r\n"
     ]
    }
   ],
   "source": [
    "ls"
   ]
  },
  {
   "cell_type": "code",
   "execution_count": 7,
   "metadata": {
    "collapsed": false
   },
   "outputs": [
    {
     "name": "stderr",
     "output_type": "stream",
     "text": [
      "06:45:49 INFO:Loading pickle file : n_sample_stage4.pickle\n"
     ]
    },
    {
     "name": "stdout",
     "output_type": "stream",
     "text": [
      "Rows: %d 285558\n"
     ]
    }
   ],
   "source": [
    "config4 = mp.load_config(\"n_sample_stage4.pickle\")\n",
    "print \"Rows: %d\" % len(config4)"
   ]
  },
  {
   "cell_type": "code",
   "execution_count": 17,
   "metadata": {
    "collapsed": false
   },
   "outputs": [
    {
     "name": "stdout",
     "output_type": "stream",
     "text": [
      "12837\n",
      "0\n",
      "0\n",
      "0\n"
     ]
    }
   ],
   "source": [
    "#\n",
    "#    The state keys all have proper heading.\n",
    "#\n",
    "s3 = dict([(k,v) for k,v in config4.iteritems() if mp.is_stage3(v)])\n",
    "print len(s3)\n",
    "print len([(k,v) for k,v in config4.iteritems() if mp.is_stage3(v) and (k[2]<0 or k[2]>359)])\n",
    "print len([(k,v) for k,v in config4.iteritems() if mp.is_stage3(v) and (v.goal1()[2]<0 or v.goal1()[2]>359)]) \n",
    "print len([(k,v) for k,v in config4.iteritems() if mp.is_stage3(v) and v.goal2() and (v.goal2()[2]<0 or v.goal2()[2]>359)]) "
   ]
  },
  {
   "cell_type": "code",
   "execution_count": 23,
   "metadata": {
    "collapsed": false
   },
   "outputs": [
    {
     "data": {
      "text/plain": [
       "-90"
      ]
     },
     "execution_count": 23,
     "metadata": {},
     "output_type": "execute_result"
    }
   ],
   "source": [
    "mp.angle_diff(-0,90)"
   ]
  },
  {
   "cell_type": "code",
   "execution_count": null,
   "metadata": {
    "collapsed": true
   },
   "outputs": [],
   "source": []
  },
  {
   "cell_type": "code",
   "execution_count": 26,
   "metadata": {
    "collapsed": false
   },
   "outputs": [
    {
     "name": "stderr",
     "output_type": "stream",
     "text": [
      "07:10:21 INFO:Loading pickle file : n_stage4.pickle\n",
      "07:11:04 INFO:Loaded 3237212 rows\n",
      "07:11:04 INFO:Calulating trajectories for 3237212 states\n"
     ]
    },
    {
     "name": "stdout",
     "output_type": "stream",
     "text": [
      "81531\n"
     ]
    }
   ],
   "source": [
    "#configg = mp.load_config(\"n_sample_stage4.pickle\")\n",
    "configg = mp.load_config(\"n_stage4.pickle\")\n",
    "logging.info(\"Loaded %d rows\", len(configg))\n",
    "data = mp.validate_stage_trajectory(configg, max=100000, stage=3, maxd=36)\n",
    "del configg\n",
    "print len(data)\n"
   ]
  },
  {
   "cell_type": "code",
   "execution_count": 45,
   "metadata": {
    "collapsed": true
   },
   "outputs": [],
   "source": [
    "def print_first(adict,max=5):\n",
    "    ii=0\n",
    "    for k,v in adict.iteritems():\n",
    "        print k,\" : \",v\n",
    "        print\n",
    "        ii+=1\n",
    "        if ii>max:\n",
    "            break\n"
   ]
  },
  {
   "cell_type": "code",
   "execution_count": 46,
   "metadata": {
    "collapsed": false
   },
   "outputs": [
    {
     "name": "stdout",
     "output_type": "stream",
     "text": [
      "(2, 43, 164)  :  [((2, 43, 0), (2, 43, 324), (1, 20, 354), 'qt', 0.1, None), ((1, 20, 354), (-12, 25, 318), (1, 20, 354), 'rh', 23.02, 250.0)]\n",
      "\n",
      "(15, 45, 176)  :  [((15, 45, 342), (15, 45, 36), (1, 20, 354), 'qt', 0.1, None), ((11, 39, 314), (17, 38, 8), (1, 20, 354), 'rh', 7.28, 15.0), ((1, 20, 354), (27, 19, 48), (1, 20, 354), 'lh', 21.9, 31.5)]\n",
      "\n",
      "(-1, 46, 158)  :  [((-1, 46, 0), (-1, 46, 18), (0, 20, 6), 'qt', 0.1, None), ((0, 20, 6), (6, 21, 18), (0, 20, 6), 'rh', 26.0, 1500.0)]\n",
      "\n",
      "(25, 41, 8)  :  [((25, 41, 322), (25, 41, 268), (1, 20, 354), 'qt', 0.1, None), ((16, 36, 282), (15, 44, 228), (1, 20, 354), 'rh', 10.5, 15.0), ((1, 20, 354), (-6, 46, 298), (1, 20, 354), 'lh', 23.37, 19.0)]\n",
      "\n",
      "(20, 38, 334)  :  [((20, 38, 306), (20, 38, 54), (1, 20, 354), 'qt', 0.1, None), ((15, 36, 286), (23, 34, 34), (1, 20, 354), 'rh', 5.41, 15.0), ((1, 20, 354), (42, 25, 100), (1, 20, 354), 'lh', 22.48, 19.5)]\n",
      "\n",
      "(-2, 41, 326)  :  [((-2, 41, 2), (-2, 41, 326), (-1, 20, 6), 'qt', 0.1, None), ((-1, 20, 6), (-13, 23, 330), (-1, 20, 6), 'lh', 21.02, 250.0)]\n",
      "\n"
     ]
    }
   ],
   "source": [
    "#\n",
    "#   {key => [(planned, predicted, primary, move, dist, r),...]\n",
    "#\n",
    "print_first(data,5)"
   ]
  },
  {
   "cell_type": "code",
   "execution_count": 50,
   "metadata": {
    "collapsed": false
   },
   "outputs": [
    {
     "name": "stdout",
     "output_type": "stream",
     "text": [
      "All: 81531   Stage3: 81531\n",
      "\n",
      "(10, 52, 46)  :  ((10, 52, 348), (10, 52, 186), (1, 20, 354), 'qt', 0.1, None)\n",
      "\n",
      "(2, 43, 164)  :  ((2, 43, 0), (2, 43, 324), (1, 20, 354), 'qt', 0.1, None)\n",
      "\n",
      "(15, 45, 176)  :  ((15, 45, 342), (15, 45, 36), (1, 20, 354), 'qt', 0.1, None)\n",
      "\n",
      "(-1, 46, 158)  :  ((-1, 46, 0), (-1, 46, 18), (0, 20, 6), 'qt', 0.1, None)\n",
      "\n",
      "(20, 37, 318)  :  ((20, 37, 292), (20, 37, 58), (1, 20, 354), 'qt', 0.1, None)\n",
      "\n",
      "(25, 41, 8)  :  ((25, 41, 322), (25, 41, 268), (1, 20, 354), 'qt', 0.1, None)\n",
      "\n"
     ]
    }
   ],
   "source": [
    "data3={}\n",
    "ii=0\n",
    "max=5\n",
    "for k,v in data.iteritems():\n",
    "    for path in v:\n",
    "        if path[3]=='qt':\n",
    "            data3[k]=path\n",
    "            break\n",
    "\n",
    "print \"All: %d   Stage3: %d\" % (len(data),len(data3)) # should be equal\n",
    "print\n",
    "print_first(data3,5)\n",
    "    "
   ]
  },
  {
   "cell_type": "code",
   "execution_count": 52,
   "metadata": {
    "collapsed": false
   },
   "outputs": [
    {
     "name": "stdout",
     "output_type": "stream",
     "text": [
      "Count: 81531  Avg h_err: 90.48 \n"
     ]
    }
   ],
   "source": [
    "errt=0\n",
    "count=0\n",
    "for k,v in data3.iteritems():\n",
    "    errt += abs(mp.angle_diff(v[0][2],v[1][2]))\n",
    "    count+=1\n",
    "print \"Count: %d  Avg h_err: %.2f \" % (count,float(errt)/count)"
   ]
  },
  {
   "cell_type": "code",
   "execution_count": 54,
   "metadata": {
    "collapsed": false
   },
   "outputs": [
    {
     "name": "stdout",
     "output_type": "stream",
     "text": [
      "162.00  :     (10, 52, 46) : ((10, 52, 348), (10, 52, 186), (1, 20, 354), 'qt', 0.1, None) \n",
      "126.00  :    (20, 37, 318) : ((20, 37, 292), (20, 37, 58), (1, 20, 354), 'qt', 0.1, None) \n",
      "126.00  :    (16, 43, 204) : ((16, 43, 338), (16, 43, 104), (1, 20, 354), 'qt', 0.1, None) \n",
      "108.00  :    (20, 38, 334) : ((20, 38, 306), (20, 38, 54), (1, 20, 354), 'qt', 0.1, None) \n",
      "144.00  :    (14, 48, 158) : ((14, 48, 342), (14, 48, 198), (1, 20, 354), 'qt', 0.1, None) \n",
      "108.00  :     (5, 52, 216) : ((5, 52, 348), (5, 52, 96), (0, 20, 354), 'qt', 0.1, None) \n",
      "108.00  :     (8, 31, 158) : ((8, 31, 306), (8, 31, 198), (1, 20, 354), 'qt', 0.1, None) \n",
      "180.00  :    (-3, 27, 290) : ((-3, 27, 30), (-3, 27, 210), (-1, 20, 6), 'qt', 0.1, None) \n",
      "180.00  :      (3, 37, 56) : ((3, 37, 316), (3, 37, 136), (-1, 20, 0), 'qt', 0.1, None) \n",
      "108.00  :     (2, 52, 212) : ((2, 52, 0), (2, 52, 252), (1, 20, 354), 'qt', 0.1, None) \n",
      "126.00  :    (13, 38, 106) : ((13, 38, 332), (13, 38, 206), (1, 20, 354), 'qt', 0.1, None) \n"
     ]
    }
   ],
   "source": [
    "minerr=90\n",
    "ii=0\n",
    "max=10\n",
    "for k,v in data3.iteritems():\n",
    "    err = abs(mp.angle_diff(v[0][2],v[1][2]))\n",
    "    if err>minerr:\n",
    "        print \"%.2f  :  %15s : %s \" % (err, k, v)\n",
    "        ii+=1\n",
    "        if ii>max:\n",
    "            break"
   ]
  },
  {
   "cell_type": "code",
   "execution_count": null,
   "metadata": {
    "collapsed": true
   },
   "outputs": [],
   "source": []
  }
 ],
 "metadata": {
  "kernelspec": {
   "display_name": "Python 2",
   "language": "python",
   "name": "python2"
  },
  "language_info": {
   "codemirror_mode": {
    "name": "ipython",
    "version": 2
   },
   "file_extension": ".py",
   "mimetype": "text/x-python",
   "name": "python",
   "nbconvert_exporter": "python",
   "pygments_lexer": "ipython2",
   "version": "2.7.13"
  }
 },
 "nbformat": 4,
 "nbformat_minor": 0
}
