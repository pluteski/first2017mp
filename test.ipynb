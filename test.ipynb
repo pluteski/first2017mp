{
 "cells": [
  {
   "cell_type": "code",
   "execution_count": 1,
   "metadata": {
    "collapsed": false
   },
   "outputs": [],
   "source": [
    "%matplotlib inline\n",
    "import numpy as np\n",
    "import matplotlib.pyplot as plt\n",
    "import pylab #Imports matplotlib and a host of other useful modules\n",
    "import pickle\n",
    "import time\n",
    "\n",
    "import sys\n",
    "# sys.path.append(\"./\")\n",
    "import motion_planner as mp\n",
    "from motion_planner import StateP"
   ]
  },
  {
   "cell_type": "code",
   "execution_count": 2,
   "metadata": {
    "collapsed": false
   },
   "outputs": [
    {
     "name": "stderr",
     "output_type": "stream",
     "text": [
      "03:11:06 INFO:Logging enabled in notebook\n"
     ]
    }
   ],
   "source": [
    "import logging\n",
    "reload(logging)\n",
    "logging.basicConfig(format='%(asctime)s %(levelname)s:%(message)s', level=logging.INFO, datefmt='%I:%M:%S')\n",
    "logging.info('Logging enabled in notebook')\n"
   ]
  },
  {
   "cell_type": "markdown",
   "metadata": {
    "collapsed": false
   },
   "source": [
    "# Average error compared to simulated outcome analysis\n",
    "- Simulates the outcome of a trajectory, and compares to the desired outcome that is stored in the table.\n"
   ]
  },
  {
   "cell_type": "markdown",
   "metadata": {},
   "source": [
    "# List home directory"
   ]
  },
  {
   "cell_type": "code",
   "execution_count": 3,
   "metadata": {
    "collapsed": false
   },
   "outputs": [
    {
     "name": "stdout",
     "output_type": "stream",
     "text": [
      "180                            ne_remaining.pickle\r\n",
      "arcs.ipynb                     ne_sample.pickle\r\n",
      "evaluate.ipynb                 ne_sample_stage2.pickle\r\n",
      "field_drawings.ipynb           ne_sample_stage4.pickle\r\n",
      "load_mp.py                     ne_sample_traj.pickle\r\n",
      "mem_profiling.py               ne_sample_unreachables.pickle\r\n",
      "motion_planner.py              ne_stage1.pickle\r\n",
      "motion_planner.pyc             ne_stage2.pickle\r\n",
      "mp_deprecated.ipynb            ne_stage3.pickle\r\n",
      "n_remaining.pickle             ne_stage4.pickle\r\n",
      "n_sample.pickle                ne_unreachables.pickle\r\n",
      "n_sample_stage2.pickle         \u001b[34moldcode\u001b[m\u001b[m/\r\n",
      "n_sample_stage4.pickle         readme.md\r\n",
      "n_sample_traj.pickle           requirements.txt\r\n",
      "n_sample_unreachables.pickle   results.txt\r\n",
      "n_stage1.pickle                \u001b[34mruns\u001b[m\u001b[m/\r\n",
      "n_stage2.pickle                sample_trajectories.ipynb\r\n",
      "n_stage3.pickle                spacefilling_circles.ipynb\r\n",
      "n_stage4.pickle                test-360.ipynb\r\n",
      "n_unreachables.pickle          test.ipynb\r\n"
     ]
    }
   ],
   "source": [
    "ls '.'"
   ]
  },
  {
   "cell_type": "code",
   "execution_count": 27,
   "metadata": {
    "collapsed": false
   },
   "outputs": [
    {
     "name": "stdout",
     "output_type": "stream",
     "text": [
      "NORTH\n",
      "[(0, 20), (1, 20), (-1, 20)]\n",
      "[0, 354, 6, 350, 10, 346, 14]\n",
      "\n",
      "NORTHEAST\n",
      "[(46, -8), (45, -7), (46, -9)]\n",
      "[300, 294, 306, 290, 310, 286, 314]\n"
     ]
    }
   ],
   "source": [
    "print \"NORTH\"\n",
    "print mp.N_XY_GOALS\n",
    "print mp.N_GOAL_HEADINGS\n",
    "print\n",
    "print \"NORTHEAST\"\n",
    "print mp.NE_XY_GOALS\n",
    "print mp.NE_GOAL_HEADINGS"
   ]
  },
  {
   "cell_type": "markdown",
   "metadata": {},
   "source": [
    "## Evaluates average trajectory error"
   ]
  },
  {
   "cell_type": "code",
   "execution_count": 188,
   "metadata": {
    "collapsed": false
   },
   "outputs": [
    {
     "name": "stderr",
     "output_type": "stream",
     "text": [
      "05:02:29 INFO:Loading n_stage1.pickle\n",
      "05:02:29 INFO:Loading pickle file : n_stage1.pickle\n",
      "05:02:32 INFO:Loaded n_stage1.pickle : 110930 rows  (0.0 min)\n",
      "05:02:32 INFO:Calulating trajectories for 110930 states\n"
     ]
    },
    {
     "name": "stdout",
     "output_type": "stream",
     "text": [
      "Estimating trajectory error for stage 1 , max dist 60.0\n",
      "Calculated 21160 trajectories. (0.0 min) \n",
      "Average distance error   : 0.5\n",
      "Average heading error    : 1.4\n"
     ]
    }
   ],
   "source": [
    "mp.trajectory_err(\"north\", stage=1, samplesize=50000, maxd=60)"
   ]
  },
  {
   "cell_type": "code",
   "execution_count": 189,
   "metadata": {
    "collapsed": false
   },
   "outputs": [
    {
     "name": "stderr",
     "output_type": "stream",
     "text": [
      "05:02:43 INFO:Loading ne_stage1.pickle\n",
      "05:02:43 INFO:Loading pickle file : ne_stage1.pickle\n",
      "05:02:44 INFO:Loaded ne_stage1.pickle : 60594 rows  (0.0 min)\n",
      "05:02:44 INFO:Calulating trajectories for 60594 states\n"
     ]
    },
    {
     "name": "stdout",
     "output_type": "stream",
     "text": [
      "Estimating trajectory error for stage 1 , max dist 60.0\n",
      "Calculated 15563 trajectories. (0.0 min) \n",
      "Average distance error   : 0.8\n",
      "Average heading error    : 0.6\n"
     ]
    }
   ],
   "source": [
    "mp.trajectory_err(\"northeast\", stage=1, samplesize=50000, maxd=60)"
   ]
  },
  {
   "cell_type": "code",
   "execution_count": 204,
   "metadata": {
    "collapsed": false
   },
   "outputs": [
    {
     "name": "stderr",
     "output_type": "stream",
     "text": [
      "05:13:59 INFO:Loading n_stage1.pickle\n",
      "05:13:59 INFO:Loading pickle file : n_stage1.pickle\n",
      "05:14:01 INFO:Loaded n_stage1.pickle : 110930 rows  (0.0 min)\n",
      "05:14:01 INFO:Calulating trajectories for 110930 states\n"
     ]
    },
    {
     "name": "stdout",
     "output_type": "stream",
     "text": [
      "Estimating trajectory error for stage 1 , max dist 84.0\n",
      "Calculated 42198 trajectories. (0.0 min) \n",
      "Average distance error   : 4.9\n",
      "Average heading error    : 9.9\n"
     ]
    }
   ],
   "source": [
    "mp.trajectory_err(\"north\", stage=1, samplesize=50000, maxd=7*12)"
   ]
  },
  {
   "cell_type": "code",
   "execution_count": 205,
   "metadata": {
    "collapsed": false
   },
   "outputs": [
    {
     "name": "stderr",
     "output_type": "stream",
     "text": [
      "05:14:10 INFO:Loading ne_stage1.pickle\n",
      "05:14:10 INFO:Loading pickle file : ne_stage1.pickle\n",
      "05:14:11 INFO:Loaded ne_stage1.pickle : 60594 rows  (0.0 min)\n",
      "05:14:11 INFO:Calulating trajectories for 60594 states\n"
     ]
    },
    {
     "name": "stdout",
     "output_type": "stream",
     "text": [
      "Estimating trajectory error for stage 1 , max dist 84.0\n",
      "Calculated 30117 trajectories. (0.0 min) \n",
      "Average distance error   : 2.5\n",
      "Average heading error    : 4.3\n"
     ]
    }
   ],
   "source": [
    "mp.trajectory_err(\"northeast\", stage=1, samplesize=50000, maxd=7*12)"
   ]
  },
  {
   "cell_type": "code",
   "execution_count": 200,
   "metadata": {
    "collapsed": false
   },
   "outputs": [
    {
     "name": "stderr",
     "output_type": "stream",
     "text": [
      "05:11:39 INFO:Loading pickle file : n_stage2.pickle\n",
      "05:12:17 INFO:Loaded 2721295 rows\n",
      "05:12:17 INFO:Calulating trajectories for 2721295 states\n"
     ]
    },
    {
     "name": "stdout",
     "output_type": "stream",
     "text": [
      "Estimating trajectory error over all paths max dist 60.0\n",
      "Calculated 50000 trajectories. (0.1 min) \n",
      "Average distance error   : 3.1\n",
      "Average heading error    : 6.4\n"
     ]
    }
   ],
   "source": [
    "path = \"n_stage2.pickle\"\n",
    "mp.trajectory_err_file(path, stage=None, samplesize=50000, maxd=60)\n",
    "\n"
   ]
  },
  {
   "cell_type": "code",
   "execution_count": 212,
   "metadata": {
    "collapsed": false
   },
   "outputs": [
    {
     "name": "stderr",
     "output_type": "stream",
     "text": [
      "05:23:17 INFO:Loading pickle file : n_stage2.pickle\n",
      "05:23:54 INFO:Loaded 2721295 rows\n",
      "05:23:54 INFO:Calulating trajectories for 2721295 states\n"
     ]
    },
    {
     "name": "stdout",
     "output_type": "stream",
     "text": [
      "Estimating trajectory error for stage 1 , max dist 60.0\n",
      "Calculated 21160 trajectories. (0.1 min) \n",
      "Average distance error   : 0.5\n",
      "Average heading error    : 1.4\n"
     ]
    }
   ],
   "source": [
    "path = \"n_stage2.pickle\"\n",
    "mp.trajectory_err_file(path, stage=1, samplesize=50000, maxd=60)\n"
   ]
  },
  {
   "cell_type": "code",
   "execution_count": 210,
   "metadata": {
    "collapsed": false
   },
   "outputs": [
    {
     "name": "stderr",
     "output_type": "stream",
     "text": [
      "05:21:23 INFO:Loading pickle file : n_stage2.pickle\n",
      "05:22:02 INFO:Loaded 2721295 rows\n",
      "05:22:02 INFO:Calulating trajectories for 2721295 states\n"
     ]
    },
    {
     "name": "stdout",
     "output_type": "stream",
     "text": [
      "Estimating trajectory error for stage 2 , max dist 60.0\n",
      "Calculated 50000 trajectories. (0.1 min) \n",
      "Average distance error   : 3.7\n",
      "Average heading error    : 7.5\n"
     ]
    }
   ],
   "source": [
    "path = \"n_stage2.pickle\"\n",
    "mp.trajectory_err_file(path, stage=2, samplesize=50000, maxd=60)"
   ]
  },
  {
   "cell_type": "code",
   "execution_count": 201,
   "metadata": {
    "collapsed": false
   },
   "outputs": [
    {
     "name": "stderr",
     "output_type": "stream",
     "text": [
      "05:12:41 INFO:Loading pickle file : ne_stage2.pickle\n",
      "05:13:22 INFO:Loaded 2854795 rows\n",
      "05:13:22 INFO:Calulating trajectories for 2854795 states\n"
     ]
    },
    {
     "name": "stdout",
     "output_type": "stream",
     "text": [
      "Estimating trajectory error over all paths max dist 60.0\n",
      "Calculated 50000 trajectories. (0.1 min) \n",
      "Average distance error   : 7.4\n",
      "Average heading error    : 16.5\n"
     ]
    }
   ],
   "source": [
    "path = \"ne_stage2.pickle\"\n",
    "mp.trajectory_err_file(path, stage=None, samplesize=50000, maxd=60)\n"
   ]
  },
  {
   "cell_type": "code",
   "execution_count": 4,
   "metadata": {
    "collapsed": false
   },
   "outputs": [
    {
     "name": "stderr",
     "output_type": "stream",
     "text": [
      "05:51:13 INFO:Loading pickle file : ne_stage2.pickle\n",
      "05:51:52 INFO:Loaded 2854795 rows\n",
      "05:51:52 INFO:Calulating trajectories for 2854795 states\n"
     ]
    },
    {
     "name": "stdout",
     "output_type": "stream",
     "text": [
      "Estimating trajectory error for stage 1 , max dist 60.0\n",
      "Calculated 15563 trajectories. (0.1 min) \n",
      "Average distance error   : 0.8\n",
      "Average heading error    : 0.6\n"
     ]
    }
   ],
   "source": [
    "path = \"ne_stage2.pickle\"\n",
    "mp.trajectory_err_file(path, stage=1, samplesize=50000, maxd=60)\n"
   ]
  },
  {
   "cell_type": "code",
   "execution_count": 211,
   "metadata": {
    "collapsed": false
   },
   "outputs": [
    {
     "name": "stderr",
     "output_type": "stream",
     "text": [
      "05:22:23 INFO:Loading pickle file : ne_stage2.pickle\n",
      "05:23:04 INFO:Loaded 2854795 rows\n",
      "05:23:04 INFO:Calulating trajectories for 2854795 states\n"
     ]
    },
    {
     "name": "stdout",
     "output_type": "stream",
     "text": [
      "Estimating trajectory error for stage 2 , max dist 60.0\n",
      "Calculated 50000 trajectories. (0.1 min) \n",
      "Average distance error   : 8.0\n",
      "Average heading error    : 17.9\n"
     ]
    }
   ],
   "source": [
    "path = \"ne_stage2.pickle\"\n",
    "mp.trajectory_err_file(path, stage=2, samplesize=50000, maxd=60)\n"
   ]
  },
  {
   "cell_type": "code",
   "execution_count": 8,
   "metadata": {
    "collapsed": false
   },
   "outputs": [
    {
     "name": "stderr",
     "output_type": "stream",
     "text": [
      "03:21:13 INFO:Loading pickle file : n_stage3.pickle\n",
      "03:21:58 INFO:Loaded 3197794 rows\n",
      "03:21:58 INFO:Calulating trajectories for 3197794 states\n"
     ]
    },
    {
     "name": "stdout",
     "output_type": "stream",
     "text": [
      "Estimating trajectory error for stage 3 , max dist 60.0\n",
      "Average distance error   : 1.4\n",
      "Average heading error    : 1.7\n",
      "Evaluated 50000 trajectories. (0.1 min) \n"
     ]
    }
   ],
   "source": [
    "path = \"n_stage3.pickle\"\n",
    "mp.trajectory_err_file(path, stage=3, samplesize=50000, maxd=60)\n"
   ]
  },
  {
   "cell_type": "code",
   "execution_count": 6,
   "metadata": {
    "collapsed": false
   },
   "outputs": [
    {
     "name": "stderr",
     "output_type": "stream",
     "text": [
      "03:18:56 INFO:Loading pickle file : ne_stage3.pickle\n",
      "03:19:50 INFO:Loaded 3736933 rows\n",
      "03:19:50 INFO:Calulating trajectories for 3736933 states\n"
     ]
    },
    {
     "name": "stdout",
     "output_type": "stream",
     "text": [
      "Estimating trajectory error for stage 3 , max dist 60.0\n",
      "Average distance error   : 6.0\n",
      "Average heading error    : 16.4\n",
      "Evaluated 50000 trajectories. (0.1 min) \n"
     ]
    }
   ],
   "source": [
    "path = \"ne_stage3.pickle\"\n",
    "mp.trajectory_err_file(path, stage=3, samplesize=50000, maxd=60)\n"
   ]
  },
  {
   "cell_type": "code",
   "execution_count": 9,
   "metadata": {
    "collapsed": false
   },
   "outputs": [
    {
     "name": "stderr",
     "output_type": "stream",
     "text": [
      "03:39:59 INFO:Loading pickle file : n_stage4.pickle\n",
      "03:40:47 INFO:Loaded 3237212 rows\n",
      "03:40:47 INFO:Calulating trajectories for 3237212 states\n"
     ]
    },
    {
     "name": "stdout",
     "output_type": "stream",
     "text": [
      "Estimating trajectory error for stage 4 , max dist 60.0\n",
      "Average distance error   : 2.0\n",
      "Average heading error    : 2.7\n",
      "Evaluated 16373 trajectories. (0.1 min) \n"
     ]
    }
   ],
   "source": [
    "path = \"n_stage4.pickle\"\n",
    "mp.trajectory_err_file(path, stage=4, samplesize=50000, maxd=60)\n"
   ]
  },
  {
   "cell_type": "code",
   "execution_count": 10,
   "metadata": {
    "collapsed": false
   },
   "outputs": [
    {
     "name": "stderr",
     "output_type": "stream",
     "text": [
      "03:49:54 INFO:Loading pickle file : ne_stage4.pickle\n",
      "03:50:46 INFO:Loaded 3786358 rows\n",
      "03:50:46 INFO:Calulating trajectories for 3786358 states\n"
     ]
    },
    {
     "name": "stdout",
     "output_type": "stream",
     "text": [
      "Estimating trajectory error for stage 4 , max dist 60.0\n",
      "Average distance error   : 5.0\n",
      "Average heading error    : 6.7\n",
      "Evaluated 14482 trajectories. (0.1 min) \n"
     ]
    }
   ],
   "source": [
    "path = \"ne_stage4.pickle\"\n",
    "mp.trajectory_err_file(path, stage=4, samplesize=50000, maxd=60)\n"
   ]
  },
  {
   "cell_type": "code",
   "execution_count": 11,
   "metadata": {
    "collapsed": false
   },
   "outputs": [
    {
     "name": "stderr",
     "output_type": "stream",
     "text": [
      "03:50:55 INFO:Loading pickle file : ne_stage4.pickle\n",
      "03:51:49 INFO:Loaded 3786358 rows\n",
      "03:51:49 INFO:Calulating trajectories for 3786358 states\n"
     ]
    },
    {
     "name": "stdout",
     "output_type": "stream",
     "text": [
      "Estimating trajectory error over all paths max dist 60.0\n",
      "Average distance error   : 6.6\n",
      "Average heading error    : 15.9\n",
      "Evaluated 50000 trajectories. (0.1 min) \n"
     ]
    }
   ],
   "source": [
    "path = \"ne_stage4.pickle\"\n",
    "mp.trajectory_err_file(path, stage=None, samplesize=50000, maxd=60)"
   ]
  },
  {
   "cell_type": "code",
   "execution_count": 12,
   "metadata": {
    "collapsed": false
   },
   "outputs": [
    {
     "name": "stderr",
     "output_type": "stream",
     "text": [
      "03:51:56 INFO:Loading pickle file : ne_stage4.pickle\n",
      "03:52:51 INFO:Loaded 3786358 rows\n",
      "03:52:51 INFO:Calulating trajectories for 3786358 states\n"
     ]
    },
    {
     "name": "stdout",
     "output_type": "stream",
     "text": [
      "Estimating trajectory error over all paths max dist 48.0\n",
      "Average distance error   : 5.1\n",
      "Average heading error    : 13.5\n",
      "Evaluated 50000 trajectories. (0.1 min) \n"
     ]
    }
   ],
   "source": [
    "path = \"ne_stage4.pickle\"\n",
    "mp.trajectory_err_file(path, stage=None, samplesize=50000, maxd=48)"
   ]
  },
  {
   "cell_type": "code",
   "execution_count": 13,
   "metadata": {
    "collapsed": false
   },
   "outputs": [
    {
     "name": "stderr",
     "output_type": "stream",
     "text": [
      "03:52:58 INFO:Loading pickle file : ne_stage4.pickle\n",
      "03:53:51 INFO:Loaded 3786358 rows\n",
      "03:53:51 INFO:Calulating trajectories for 3786358 states\n"
     ]
    },
    {
     "name": "stdout",
     "output_type": "stream",
     "text": [
      "Estimating trajectory error over all paths max dist 36.0\n",
      "Average distance error   : 3.2\n",
      "Average heading error    : 5.8\n",
      "Evaluated 50000 trajectories. (0.1 min) \n"
     ]
    }
   ],
   "source": [
    "path = \"ne_stage4.pickle\"\n",
    "mp.trajectory_err_file(path, stage=None, samplesize=50000, maxd=36)"
   ]
  },
  {
   "cell_type": "code",
   "execution_count": 14,
   "metadata": {
    "collapsed": false
   },
   "outputs": [
    {
     "name": "stderr",
     "output_type": "stream",
     "text": [
      "03:54:00 INFO:Loading pickle file : ne_stage4.pickle\n",
      "03:54:55 INFO:Loaded 3786358 rows\n",
      "03:54:55 INFO:Calulating trajectories for 3786358 states\n"
     ]
    },
    {
     "name": "stdout",
     "output_type": "stream",
     "text": [
      "Estimating trajectory error over all paths max dist 24.0\n",
      "Average distance error   : 2.6\n",
      "Average heading error    : 0.8\n",
      "Evaluated 50000 trajectories. (0.1 min) \n"
     ]
    }
   ],
   "source": [
    "path = \"ne_stage4.pickle\"\n",
    "mp.trajectory_err_file(path, stage=None, samplesize=50000, maxd=24)"
   ]
  },
  {
   "cell_type": "code",
   "execution_count": null,
   "metadata": {
    "collapsed": true
   },
   "outputs": [],
   "source": []
  }
 ],
 "metadata": {
  "kernelspec": {
   "display_name": "Python 2",
   "language": "python",
   "name": "python2"
  },
  "language_info": {
   "codemirror_mode": {
    "name": "ipython",
    "version": 2
   },
   "file_extension": ".py",
   "mimetype": "text/x-python",
   "name": "python",
   "nbconvert_exporter": "python",
   "pygments_lexer": "ipython2",
   "version": "2.7.13"
  }
 },
 "nbformat": 4,
 "nbformat_minor": 0
}
