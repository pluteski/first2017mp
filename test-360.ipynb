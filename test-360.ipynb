{
 "cells": [
  {
   "cell_type": "code",
   "execution_count": 2,
   "metadata": {
    "collapsed": false
   },
   "outputs": [],
   "source": [
    "%matplotlib inline\n",
    "import numpy as np\n",
    "import matplotlib.pyplot as plt\n",
    "import pylab #Imports matplotlib and a host of other useful modules\n",
    "import pickle\n",
    "import time\n",
    "\n",
    "import sys\n",
    "# sys.path.append(\"./\")\n",
    "import motion_planner as mp\n",
    "from motion_planner import StateP"
   ]
  },
  {
   "cell_type": "code",
   "execution_count": 3,
   "metadata": {
    "collapsed": false
   },
   "outputs": [
    {
     "name": "stderr",
     "output_type": "stream",
     "text": [
      "11:29:42 INFO:Logging enabled in notebook\n"
     ]
    }
   ],
   "source": [
    "import logging\n",
    "reload(logging)\n",
    "logging.basicConfig(format='%(asctime)s %(levelname)s:%(message)s', level=logging.INFO, datefmt='%I:%M:%S')\n",
    "logging.info('Logging enabled in notebook')\n"
   ]
  },
  {
   "cell_type": "markdown",
   "metadata": {
    "collapsed": false
   },
   "source": [
    "# Evaluates 360.mar11 data\n",
    "\n",
    "## Average error compared to simulated outcome analysis\n",
    "- Simulates the outcome of a trajectory, and compares to the desired outcome that is stored in the table.\n"
   ]
  },
  {
   "cell_type": "markdown",
   "metadata": {},
   "source": [
    "# List home directory"
   ]
  },
  {
   "cell_type": "code",
   "execution_count": 5,
   "metadata": {
    "collapsed": false
   },
   "outputs": [
    {
     "name": "stdout",
     "output_type": "stream",
     "text": [
      "arcs.ipynb                     ne_sample.pickle\r\n",
      "evaluate.ipynb                 ne_sample_stage2.pickle\r\n",
      "field_drawings.ipynb           ne_sample_stage4.pickle\r\n",
      "load_mp.py                     ne_sample_traj.pickle\r\n",
      "mem_profiling.py               ne_sample_unreachables.pickle\r\n",
      "motion_planner.py              ne_stage1.pickle\r\n",
      "motion_planner.pyc             ne_stage2.pickle\r\n",
      "mp_deprecated.ipynb            ne_stage3.pickle\r\n",
      "n_remaining.pickle             ne_stage4.pickle\r\n",
      "n_sample.pickle                ne_unreachables.pickle\r\n",
      "n_sample_stage2.pickle         \u001b[34moldcode\u001b[m\u001b[m/\r\n",
      "n_sample_stage4.pickle         readme.md\r\n",
      "n_sample_traj.pickle           requirements.txt\r\n",
      "n_sample_unreachables.pickle   results.txt\r\n",
      "n_stage1.pickle                \u001b[34mruns\u001b[m\u001b[m/\r\n",
      "n_stage2.pickle                sample_trajectories.ipynb\r\n",
      "n_stage3.pickle                spacefilling_circles.ipynb\r\n",
      "n_stage4.pickle                test-360.ipynb\r\n",
      "n_unreachables.pickle          test.ipynb\r\n",
      "ne_remaining.pickle\r\n"
     ]
    }
   ],
   "source": [
    "ls '.'"
   ]
  },
  {
   "cell_type": "code",
   "execution_count": 6,
   "metadata": {
    "collapsed": false
   },
   "outputs": [
    {
     "name": "stdout",
     "output_type": "stream",
     "text": [
      "NORTH\n",
      "[(0, 20), (1, 20), (-1, 20)]\n",
      "[0, 354, 6, 350, 10, 346, 14]\n",
      "\n",
      "NORTHEAST\n",
      "[(46, -8), (45, -7), (46, -9)]\n",
      "[300, 294, 306, 290, 310, 286, 314]\n"
     ]
    }
   ],
   "source": [
    "print \"NORTH\"\n",
    "print mp.N_XY_GOALS\n",
    "print mp.N_GOAL_HEADINGS\n",
    "print\n",
    "print \"NORTHEAST\"\n",
    "print mp.NE_XY_GOALS\n",
    "print mp.NE_GOAL_HEADINGS"
   ]
  },
  {
   "cell_type": "markdown",
   "metadata": {},
   "source": [
    "## Evaluates average trajectory error"
   ]
  },
  {
   "cell_type": "code",
   "execution_count": 7,
   "metadata": {
    "collapsed": false
   },
   "outputs": [
    {
     "name": "stderr",
     "output_type": "stream",
     "text": [
      "06:03:59 INFO:Loading n_stage1.pickle\n",
      "06:03:59 INFO:Loading pickle file : n_stage1.pickle\n",
      "06:04:02 INFO:Loaded n_stage1.pickle : 251328 rows  (0.1 min)\n",
      "06:04:02 INFO:Calulating trajectories for 251328 states\n"
     ]
    },
    {
     "name": "stdout",
     "output_type": "stream",
     "text": [
      "Estimating trajectory error for stage 1 , max dist 60.0\n",
      "Calculated 39567 trajectories. (0.0 min) \n",
      "Average distance error   : 0.4\n",
      "Average heading error    : 1.6\n"
     ]
    }
   ],
   "source": [
    "mp.trajectory_err(\"north\", stage=1, samplesize=50000, maxd=60)"
   ]
  },
  {
   "cell_type": "code",
   "execution_count": 8,
   "metadata": {
    "collapsed": false
   },
   "outputs": [
    {
     "name": "stderr",
     "output_type": "stream",
     "text": [
      "06:04:05 INFO:Loading ne_stage1.pickle\n",
      "06:04:05 INFO:Loading pickle file : ne_stage1.pickle\n",
      "06:04:06 INFO:Loaded ne_stage1.pickle : 108884 rows  (0.0 min)\n",
      "06:04:06 INFO:Calulating trajectories for 108884 states\n"
     ]
    },
    {
     "name": "stdout",
     "output_type": "stream",
     "text": [
      "Estimating trajectory error for stage 1 , max dist 60.0\n",
      "Calculated 27349 trajectories. (0.0 min) \n",
      "Average distance error   : 0.9\n",
      "Average heading error    : 1.1\n"
     ]
    }
   ],
   "source": [
    "mp.trajectory_err(\"northeast\", stage=1, samplesize=50000, maxd=60)"
   ]
  },
  {
   "cell_type": "code",
   "execution_count": 9,
   "metadata": {
    "collapsed": false
   },
   "outputs": [
    {
     "name": "stderr",
     "output_type": "stream",
     "text": [
      "06:04:07 INFO:Loading n_stage1.pickle\n",
      "06:04:07 INFO:Loading pickle file : n_stage1.pickle\n",
      "06:04:11 INFO:Loaded n_stage1.pickle : 251328 rows  (0.1 min)\n",
      "06:04:11 INFO:Calulating trajectories for 251328 states\n"
     ]
    },
    {
     "name": "stdout",
     "output_type": "stream",
     "text": [
      "Estimating trajectory error for stage 1 , max dist 84.0\n",
      "Calculated 50000 trajectories. (0.0 min) \n",
      "Average distance error   : 4.3\n",
      "Average heading error    : 9.0\n"
     ]
    }
   ],
   "source": [
    "mp.trajectory_err(\"north\", stage=1, samplesize=50000, maxd=7*12)"
   ]
  },
  {
   "cell_type": "code",
   "execution_count": 10,
   "metadata": {
    "collapsed": false
   },
   "outputs": [
    {
     "name": "stderr",
     "output_type": "stream",
     "text": [
      "06:04:14 INFO:Loading ne_stage1.pickle\n",
      "06:04:14 INFO:Loading pickle file : ne_stage1.pickle\n",
      "06:04:15 INFO:Loaded ne_stage1.pickle : 108884 rows  (0.0 min)\n",
      "06:04:15 INFO:Calulating trajectories for 108884 states\n"
     ]
    },
    {
     "name": "stdout",
     "output_type": "stream",
     "text": [
      "Estimating trajectory error for stage 1 , max dist 84.0\n",
      "Calculated 50000 trajectories. (0.0 min) \n",
      "Average distance error   : 2.4\n",
      "Average heading error    : 4.3\n"
     ]
    }
   ],
   "source": [
    "mp.trajectory_err(\"northeast\", stage=1, samplesize=50000, maxd=7*12)"
   ]
  },
  {
   "cell_type": "code",
   "execution_count": 11,
   "metadata": {
    "collapsed": false
   },
   "outputs": [
    {
     "name": "stderr",
     "output_type": "stream",
     "text": [
      "06:04:17 INFO:Loading pickle file : n_stage2.pickle\n",
      "06:05:34 INFO:Loaded 5420395 rows\n",
      "06:05:34 INFO:Calulating trajectories for 5420395 states\n"
     ]
    },
    {
     "name": "stdout",
     "output_type": "stream",
     "text": [
      "Estimating trajectory error over all paths max dist 60.0\n",
      "Calculated 50000 trajectories. (0.1 min) \n",
      "Average distance error   : 2.7\n",
      "Average heading error    : 5.7\n"
     ]
    }
   ],
   "source": [
    "path = \"n_stage2.pickle\"\n",
    "mp.trajectory_err_file(path, stage=None, samplesize=50000, maxd=60)\n",
    "\n"
   ]
  },
  {
   "cell_type": "code",
   "execution_count": 12,
   "metadata": {
    "collapsed": false
   },
   "outputs": [
    {
     "name": "stderr",
     "output_type": "stream",
     "text": [
      "06:05:42 INFO:Loading pickle file : n_stage2.pickle\n",
      "06:07:02 INFO:Loaded 5420395 rows\n",
      "06:07:02 INFO:Calulating trajectories for 5420395 states\n"
     ]
    },
    {
     "name": "stdout",
     "output_type": "stream",
     "text": [
      "Estimating trajectory error for stage 1 , max dist 60.0\n",
      "Calculated 39567 trajectories. (0.1 min) \n",
      "Average distance error   : 0.4\n",
      "Average heading error    : 1.6\n"
     ]
    }
   ],
   "source": [
    "path = \"n_stage2.pickle\"\n",
    "mp.trajectory_err_file(path, stage=1, samplesize=50000, maxd=60)\n"
   ]
  },
  {
   "cell_type": "code",
   "execution_count": 13,
   "metadata": {
    "collapsed": false
   },
   "outputs": [
    {
     "name": "stderr",
     "output_type": "stream",
     "text": [
      "06:07:15 INFO:Loading pickle file : n_stage2.pickle\n",
      "06:08:36 INFO:Loaded 5420395 rows\n",
      "06:08:36 INFO:Calulating trajectories for 5420395 states\n"
     ]
    },
    {
     "name": "stdout",
     "output_type": "stream",
     "text": [
      "Estimating trajectory error for stage 2 , max dist 60.0\n",
      "Calculated 50000 trajectories. (0.1 min) \n",
      "Average distance error   : 3.1\n",
      "Average heading error    : 6.5\n"
     ]
    }
   ],
   "source": [
    "path = \"n_stage2.pickle\"\n",
    "mp.trajectory_err_file(path, stage=2, samplesize=50000, maxd=60)"
   ]
  },
  {
   "cell_type": "code",
   "execution_count": 14,
   "metadata": {
    "collapsed": false
   },
   "outputs": [
    {
     "name": "stderr",
     "output_type": "stream",
     "text": [
      "06:08:46 INFO:Loading pickle file : ne_stage2.pickle\n",
      "06:09:57 INFO:Loaded 5077411 rows\n",
      "06:09:57 INFO:Calulating trajectories for 5077411 states\n"
     ]
    },
    {
     "name": "stdout",
     "output_type": "stream",
     "text": [
      "Estimating trajectory error over all paths max dist 60.0\n",
      "Calculated 50000 trajectories. (0.1 min) \n",
      "Average distance error   : 7.2\n",
      "Average heading error    : 16.1\n"
     ]
    }
   ],
   "source": [
    "path = \"ne_stage2.pickle\"\n",
    "mp.trajectory_err_file(path, stage=None, samplesize=50000, maxd=60)\n"
   ]
  },
  {
   "cell_type": "code",
   "execution_count": 15,
   "metadata": {
    "collapsed": false
   },
   "outputs": [
    {
     "name": "stderr",
     "output_type": "stream",
     "text": [
      "06:10:06 INFO:Loading pickle file : ne_stage2.pickle\n",
      "06:11:18 INFO:Loaded 5077411 rows\n",
      "06:11:18 INFO:Calulating trajectories for 5077411 states\n"
     ]
    },
    {
     "name": "stdout",
     "output_type": "stream",
     "text": [
      "Estimating trajectory error for stage 1 , max dist 60.0\n",
      "Calculated 27349 trajectories. (0.1 min) \n",
      "Average distance error   : 0.9\n",
      "Average heading error    : 1.1\n"
     ]
    }
   ],
   "source": [
    "path = \"ne_stage2.pickle\"\n",
    "mp.trajectory_err_file(path, stage=1, samplesize=50000, maxd=60)\n"
   ]
  },
  {
   "cell_type": "code",
   "execution_count": 16,
   "metadata": {
    "collapsed": false
   },
   "outputs": [
    {
     "name": "stderr",
     "output_type": "stream",
     "text": [
      "06:11:30 INFO:Loading pickle file : ne_stage2.pickle\n",
      "06:12:45 INFO:Loaded 5077411 rows\n",
      "06:12:45 INFO:Calulating trajectories for 5077411 states\n"
     ]
    },
    {
     "name": "stdout",
     "output_type": "stream",
     "text": [
      "Estimating trajectory error for stage 2 , max dist 60.0\n",
      "Calculated 50000 trajectories. (0.1 min) \n",
      "Average distance error   : 7.6\n",
      "Average heading error    : 17.2\n"
     ]
    }
   ],
   "source": [
    "path = \"ne_stage2.pickle\"\n",
    "mp.trajectory_err_file(path, stage=2, samplesize=50000, maxd=60)\n"
   ]
  },
  {
   "cell_type": "code",
   "execution_count": 4,
   "metadata": {
    "collapsed": false
   },
   "outputs": [
    {
     "name": "stderr",
     "output_type": "stream",
     "text": [
      "11:29:54 INFO:Loading pickle file : n_stage3.pickle\n",
      "11:31:28 INFO:Loaded 6394805 rows\n",
      "11:31:28 INFO:Calulating trajectories for 6394805 states\n"
     ]
    },
    {
     "name": "stdout",
     "output_type": "stream",
     "text": [
      "Estimating trajectory error for stage 3 , max dist 60.0\n",
      "Average distance error   : 1.2\n",
      "Average heading error    : 1.6\n",
      "Evaluated 50000 trajectories. (0.1 min) \n"
     ]
    }
   ],
   "source": [
    "path = \"n_stage3.pickle\"\n",
    "mp.trajectory_err_file(path, stage=3, samplesize=50000, maxd=60)\n"
   ]
  },
  {
   "cell_type": "code",
   "execution_count": 5,
   "metadata": {
    "collapsed": false
   },
   "outputs": [
    {
     "name": "stderr",
     "output_type": "stream",
     "text": [
      "11:31:38 INFO:Loading pickle file : ne_stage3.pickle\n",
      "11:33:31 INFO:Loaded 7476438 rows\n",
      "11:33:31 INFO:Calulating trajectories for 7476438 states\n"
     ]
    },
    {
     "name": "stdout",
     "output_type": "stream",
     "text": [
      "Estimating trajectory error for stage 3 , max dist 60.0\n",
      "Average distance error   : 5.4\n",
      "Average heading error    : 15.8\n",
      "Evaluated 50000 trajectories. (0.1 min) \n"
     ]
    }
   ],
   "source": [
    "path = \"ne_stage3.pickle\"\n",
    "mp.trajectory_err_file(path, stage=3, samplesize=50000, maxd=60)\n"
   ]
  },
  {
   "cell_type": "code",
   "execution_count": 6,
   "metadata": {
    "collapsed": false
   },
   "outputs": [
    {
     "name": "stderr",
     "output_type": "stream",
     "text": [
      "11:33:44 INFO:Loading pickle file : n_stage4.pickle\n",
      "11:35:23 INFO:Loaded 6471689 rows\n",
      "11:35:23 INFO:Calulating trajectories for 6471689 states\n"
     ]
    },
    {
     "name": "stdout",
     "output_type": "stream",
     "text": [
      "Estimating trajectory error for stage 4 , max dist 60.0\n",
      "Average distance error   : 2.0\n",
      "Average heading error    : 2.5\n",
      "Evaluated 30501 trajectories. (0.2 min) \n"
     ]
    }
   ],
   "source": [
    "path = \"n_stage4.pickle\"\n",
    "mp.trajectory_err_file(path, stage=4, samplesize=50000, maxd=60)\n"
   ]
  },
  {
   "cell_type": "code",
   "execution_count": 7,
   "metadata": {
    "collapsed": false
   },
   "outputs": [
    {
     "name": "stderr",
     "output_type": "stream",
     "text": [
      "11:35:38 INFO:Loading pickle file : ne_stage4.pickle\n",
      "11:37:28 INFO:Loaded 7572406 rows\n",
      "11:37:28 INFO:Calulating trajectories for 7572406 states\n"
     ]
    },
    {
     "name": "stdout",
     "output_type": "stream",
     "text": [
      "Estimating trajectory error for stage 4 , max dist 60.0\n",
      "Average distance error   : 4.5\n",
      "Average heading error    : 7.4\n",
      "Evaluated 27077 trajectories. (0.2 min) \n"
     ]
    }
   ],
   "source": [
    "path = \"ne_stage4.pickle\"\n",
    "mp.trajectory_err_file(path, stage=4, samplesize=50000, maxd=60)\n"
   ]
  },
  {
   "cell_type": "code",
   "execution_count": 8,
   "metadata": {
    "collapsed": false
   },
   "outputs": [
    {
     "name": "stderr",
     "output_type": "stream",
     "text": [
      "11:37:47 INFO:Loading pickle file : ne_stage4.pickle\n",
      "11:39:41 INFO:Loaded 7572406 rows\n",
      "11:39:41 INFO:Calulating trajectories for 7572406 states\n"
     ]
    },
    {
     "name": "stdout",
     "output_type": "stream",
     "text": [
      "Estimating trajectory error over all paths max dist 60.0\n",
      "Average distance error   : 6.1\n",
      "Average heading error    : 15.6\n",
      "Evaluated 50000 trajectories. (0.1 min) \n"
     ]
    }
   ],
   "source": [
    "path = \"ne_stage4.pickle\"\n",
    "mp.trajectory_err_file(path, stage=None, samplesize=50000, maxd=60)\n"
   ]
  },
  {
   "cell_type": "code",
   "execution_count": 9,
   "metadata": {
    "collapsed": false
   },
   "outputs": [
    {
     "name": "stderr",
     "output_type": "stream",
     "text": [
      "11:39:53 INFO:Loading pickle file : ne_stage4.pickle\n",
      "11:42:03 INFO:Loaded 7572406 rows\n",
      "11:42:03 INFO:Calulating trajectories for 7572406 states\n"
     ]
    },
    {
     "name": "stdout",
     "output_type": "stream",
     "text": [
      "Estimating trajectory error over all paths max dist 48.0\n",
      "Average distance error   : 4.9\n",
      "Average heading error    : 13.5\n",
      "Evaluated 50000 trajectories. (0.1 min) \n"
     ]
    }
   ],
   "source": [
    "path = \"ne_stage4.pickle\"\n",
    "mp.trajectory_err_file(path, stage=None, samplesize=50000, maxd=48)\n"
   ]
  },
  {
   "cell_type": "code",
   "execution_count": 10,
   "metadata": {
    "collapsed": false
   },
   "outputs": [
    {
     "name": "stderr",
     "output_type": "stream",
     "text": [
      "11:42:15 INFO:Loading pickle file : ne_stage4.pickle\n",
      "11:44:07 INFO:Loaded 7572406 rows\n",
      "11:44:07 INFO:Calulating trajectories for 7572406 states\n"
     ]
    },
    {
     "name": "stdout",
     "output_type": "stream",
     "text": [
      "Estimating trajectory error over all paths max dist 36.0\n",
      "Average distance error   : 3.2\n",
      "Average heading error    : 7.0\n",
      "Evaluated 50000 trajectories. (0.1 min) \n"
     ]
    }
   ],
   "source": [
    "path = \"ne_stage4.pickle\"\n",
    "mp.trajectory_err_file(path, stage=None, samplesize=50000, maxd=36)\n"
   ]
  },
  {
   "cell_type": "code",
   "execution_count": 11,
   "metadata": {
    "collapsed": false
   },
   "outputs": [
    {
     "name": "stderr",
     "output_type": "stream",
     "text": [
      "11:44:22 INFO:Loading pickle file : ne_stage4.pickle\n",
      "11:46:14 INFO:Loaded 7572406 rows\n",
      "11:46:14 INFO:Calulating trajectories for 7572406 states\n"
     ]
    },
    {
     "name": "stdout",
     "output_type": "stream",
     "text": [
      "Estimating trajectory error over all paths max dist 24.0\n",
      "Average distance error   : 2.4\n",
      "Average heading error    : 1.6\n",
      "Evaluated 50000 trajectories. (0.1 min) \n"
     ]
    }
   ],
   "source": [
    "path = \"ne_stage4.pickle\"\n",
    "mp.trajectory_err_file(path, stage=None, samplesize=50000, maxd=24)\n"
   ]
  },
  {
   "cell_type": "code",
   "execution_count": null,
   "metadata": {
    "collapsed": true
   },
   "outputs": [],
   "source": []
  },
  {
   "cell_type": "code",
   "execution_count": null,
   "metadata": {
    "collapsed": true
   },
   "outputs": [],
   "source": []
  }
 ],
 "metadata": {
  "kernelspec": {
   "display_name": "Python 2",
   "language": "python",
   "name": "python2"
  },
  "language_info": {
   "codemirror_mode": {
    "name": "ipython",
    "version": 2
   },
   "file_extension": ".py",
   "mimetype": "text/x-python",
   "name": "python",
   "nbconvert_exporter": "python",
   "pygments_lexer": "ipython2",
   "version": "2.7.13"
  }
 },
 "nbformat": 4,
 "nbformat_minor": 0
}
